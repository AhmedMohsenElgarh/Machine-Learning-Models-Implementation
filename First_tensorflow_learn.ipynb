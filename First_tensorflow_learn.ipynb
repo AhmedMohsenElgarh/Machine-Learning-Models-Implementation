{
  "nbformat": 4,
  "nbformat_minor": 0,
  "metadata": {
    "colab": {
      "name": "First_tensorflow_learn.ipynb",
      "provenance": [],
      "authorship_tag": "ABX9TyN3hAmUjothqj5uE46iBS49",
      "include_colab_link": true
    },
    "kernelspec": {
      "name": "python3",
      "display_name": "Python 3"
    },
    "language_info": {
      "name": "python"
    }
  },
  "cells": [
    {
      "cell_type": "markdown",
      "metadata": {
        "id": "view-in-github",
        "colab_type": "text"
      },
      "source": [
        "<a href=\"https://colab.research.google.com/github/AhmedMohsenElgarh/Machine-Learning-Models-Implementation/blob/main/First_tensorflow_learn.ipynb\" target=\"_parent\"><img src=\"https://colab.research.google.com/assets/colab-badge.svg\" alt=\"Open In Colab\"/></a>"
      ]
    },
    {
      "cell_type": "code",
      "metadata": {
        "id": "NAfX-l_guNSg"
      },
      "source": [
        "import tensorflow as tf\n",
        "import numpy as np"
      ],
      "execution_count": 1,
      "outputs": []
    },
    {
      "cell_type": "code",
      "metadata": {
        "id": "o1UM1lt9uSKL"
      },
      "source": [
        "c = np.array([-40,10,25,-35,35,29,-2,0,15])\n",
        "f = np.array([-40,50,77,-31,95, 84.2,28.4,32,59 ])"
      ],
      "execution_count": 2,
      "outputs": []
    },
    {
      "cell_type": "code",
      "metadata": {
        "id": "0DeHiMlku6UX"
      },
      "source": [
        "#create Model \n",
        "model = tf.keras.Sequential(\n",
        "    [\n",
        "    tf.keras.layers.Dense(units=1 , input_shape = [1] ) , \n",
        "    #tf.keras.layers.Dense(units=1) # if classification units = num of categories \n",
        "    ]\n",
        ")"
      ],
      "execution_count": 3,
      "outputs": []
    },
    {
      "cell_type": "code",
      "metadata": {
        "id": "65sPooC4vBP8"
      },
      "source": [
        "model.compile(\n",
        "    loss= 'mse',\n",
        "    optimizer = tf.keras.optimizers.Adam(learning_rate=.1)\n",
        ")"
      ],
      "execution_count": 4,
      "outputs": []
    },
    {
      "cell_type": "code",
      "metadata": {
        "colab": {
          "base_uri": "https://localhost:8080/"
        },
        "id": "UuqMhervw2_C",
        "outputId": "7fe26dcf-ed5a-4e26-d5ae-57b947540011"
      },
      "source": [
        "model.summary()"
      ],
      "execution_count": 5,
      "outputs": [
        {
          "output_type": "stream",
          "name": "stdout",
          "text": [
            "Model: \"sequential\"\n",
            "_________________________________________________________________\n",
            "Layer (type)                 Output Shape              Param #   \n",
            "=================================================================\n",
            "dense (Dense)                (None, 1)                 2         \n",
            "=================================================================\n",
            "Total params: 2\n",
            "Trainable params: 2\n",
            "Non-trainable params: 0\n",
            "_________________________________________________________________\n"
          ]
        }
      ]
    },
    {
      "cell_type": "code",
      "metadata": {
        "colab": {
          "base_uri": "https://localhost:8080/",
          "height": 174
        },
        "id": "RF2cvYQzw970",
        "outputId": "5c43d098-d3c2-4f0e-a135-4c9d78807309"
      },
      "source": [
        "tf.keras.utils.plot_model(\n",
        "    model=model , to_file = 'model.png'\n",
        ")"
      ],
      "execution_count": 6,
      "outputs": [
        {
          "output_type": "execute_result",
          "data": {
            "image/png": "[encoded data removed]",
            "text/plain": [
              "<IPython.core.display.Image object>"
            ]
          },
          "metadata": {},
          "execution_count": 6
        }
      ]
    },
    {
      "cell_type": "code",
      "metadata": {
        "id": "ye1ZhdgzxhFG"
      },
      "source": [
        "hist  = model.fit(x=c , y=f , epochs=500 , verbose=0)"
      ],
      "execution_count": 10,
      "outputs": []
    },
    {
      "cell_type": "code",
      "metadata": {
        "colab": {
          "base_uri": "https://localhost:8080/",
          "height": 299
        },
        "id": "TQzgQAoUyqK3",
        "outputId": "a355e46c-772a-455d-d219-bbaaeac3f861"
      },
      "source": [
        "import matplotlib.pyplot as plt\n",
        "\n",
        "plt.xlabel('Epochs')\n",
        "plt.ylabel('loss')\n",
        "plt.plot(hist.history['loss'][400:500])"
      ],
      "execution_count": 12,
      "outputs": [
        {
          "output_type": "execute_result",
          "data": {
            "text/plain": [
              "[<matplotlib.lines.Line2D at 0x7f5ede286750>]"
            ]
          },
          "metadata": {},
          "execution_count": 12
        },
        {
          "output_type": "display_data",
          "data": {
            "image/png": "[encoded data removed]",
            "text/plain": [
              "<Figure size 432x288 with 1 Axes>"
            ]
          },
          "metadata": {
            "needs_background": "light"
          }
        }
      ]
    },
    {
      "cell_type": "code",
      "metadata": {
        "colab": {
          "base_uri": "https://localhost:8080/"
        },
        "id": "5_4hDU4Pz7Q-",
        "outputId": "0142912f-797d-499b-e897-cbb91bb6b0d2"
      },
      "source": [
        "# F = ( C * 1.8 ) + 32\n",
        "model.get_weights()"
      ],
      "execution_count": 13,
      "outputs": [
        {
          "output_type": "execute_result",
          "data": {
            "text/plain": [
              "[array([[1.8001393]], dtype=float32), array([31.978043], dtype=float32)]"
            ]
          },
          "metadata": {},
          "execution_count": 13
        }
      ]
    },
    {
      "cell_type": "code",
      "metadata": {
        "colab": {
          "base_uri": "https://localhost:8080/"
        },
        "id": "pSlayA3n0uR3",
        "outputId": "d6cdda6f-3140-4e6d-d08b-31582b8a8988"
      },
      "source": [
        "# input must as shape of training \n",
        "model.predict(np.array([40 , -12 , -100 , 55]))"
      ],
      "execution_count": 17,
      "outputs": [
        {
          "output_type": "execute_result",
          "data": {
            "text/plain": [
              "array([[ 103.98361 ],\n",
              "       [  10.376371],\n",
              "       [-148.03589 ],\n",
              "       [ 130.9857  ]], dtype=float32)"
            ]
          },
          "metadata": {},
          "execution_count": 17
        }
      ]
    },
    {
      "cell_type": "markdown",
      "metadata": {
        "id": "pJEOK8z62hgY"
      },
      "source": [
        "Save Model"
      ]
    },
    {
      "cell_type": "code",
      "metadata": {
        "id": "h-wp-6Xg2iq7"
      },
      "source": [
        "model.save('c_to_f.h5')\n",
        "# save model structure and weights"
      ],
      "execution_count": 18,
      "outputs": []
    },
    {
      "cell_type": "markdown",
      "metadata": {
        "id": "Z2xT54ho28T_"
      },
      "source": [
        "Load Saved Model"
      ]
    },
    {
      "cell_type": "code",
      "metadata": {
        "id": "JJALNnNG2pD3"
      },
      "source": [
        "load_model = tf.keras.models.load_model('/content/c_to_f.h5')"
      ],
      "execution_count": 19,
      "outputs": []
    },
    {
      "cell_type": "code",
      "metadata": {
        "colab": {
          "base_uri": "https://localhost:8080/"
        },
        "id": "-lDh663v3VtH",
        "outputId": "fcb76e11-02e3-4a48-fda8-88867da90563"
      },
      "source": [
        "load_model.summary()"
      ],
      "execution_count": 21,
      "outputs": [
        {
          "output_type": "stream",
          "name": "stdout",
          "text": [
            "Model: \"sequential\"\n",
            "_________________________________________________________________\n",
            "Layer (type)                 Output Shape              Param #   \n",
            "=================================================================\n",
            "dense (Dense)                (None, 1)                 2         \n",
            "=================================================================\n",
            "Total params: 2\n",
            "Trainable params: 2\n",
            "Non-trainable params: 0\n",
            "_________________________________________________________________\n"
          ]
        }
      ]
    },
    {
      "cell_type": "code",
      "metadata": {
        "colab": {
          "base_uri": "https://localhost:8080/"
        },
        "id": "PNoiAnBq3ZZv",
        "outputId": "aa124fac-979a-464d-961c-34b1ed1cd34e"
      },
      "source": [
        "load_model.get_weights()"
      ],
      "execution_count": 23,
      "outputs": [
        {
          "output_type": "execute_result",
          "data": {
            "text/plain": [
              "[array([[1.8001393]], dtype=float32), array([31.978043], dtype=float32)]"
            ]
          },
          "metadata": {},
          "execution_count": 23
        }
      ]
    },
    {
      "cell_type": "code",
      "metadata": {
        "colab": {
          "base_uri": "https://localhost:8080/"
        },
        "id": "vpnlhybq3QUp",
        "outputId": "5cd8ce0e-b510-45d9-a30d-c1a25f2c417c"
      },
      "source": [
        "load_model.predict(np.array([55]))"
      ],
      "execution_count": 24,
      "outputs": [
        {
          "output_type": "execute_result",
          "data": {
            "text/plain": [
              "array([[130.9857]], dtype=float32)"
            ]
          },
          "metadata": {},
          "execution_count": 24
        }
      ]
    },
    {
      "cell_type": "code",
      "metadata": {
        "id": "2ltktIUl3lqY"
      },
      "source": [
        ""
      ],
      "execution_count": null,
      "outputs": []
    }
  ]
}